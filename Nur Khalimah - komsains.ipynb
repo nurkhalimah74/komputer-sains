{
 "cells": [
  {
   "cell_type": "markdown",
   "metadata": {},
   "source": [
    "<font color=fuchsia> <B>Nama : Nur Khalimah</font> <br>\n",
    "<font color=fuchsia> <B>NIM__: 11180940000015</font> <br>"
   ]
  },
  {
   "cell_type": "code",
   "execution_count": 145,
   "metadata": {},
   "outputs": [],
   "source": [
    "from numpy import*\n",
    "from matplotlib.pyplot import*\n",
    "import pandas as pd\n",
    "\n",
    "a = 0\n",
    "b = 4\n",
    "dx= 0.5\n",
    "\n",
    "N = int((b-a)/dx)\n",
    "x = linspace(a,b,N+1)\n",
    "y = zeros(N+1)\n",
    "\n",
    "y[0]=1\n",
    "for n in range(N):\n",
    "    y[n+1] = y[n] + (-2*x[n]**3 + 12*x[n]**2 - 20*x[n] + 8.5)*0.5"
   ]
  },
  {
   "cell_type": "code",
   "execution_count": 147,
   "metadata": {},
   "outputs": [
    {
     "data": {
      "text/plain": [
       "array([1.   , 5.25 , 5.875, 5.125, 4.5  , 4.75 , 5.875, 7.125, 7.   ])"
      ]
     },
     "execution_count": 147,
     "metadata": {},
     "output_type": "execute_result"
    }
   ],
   "source": [
    "y"
   ]
  },
  {
   "cell_type": "code",
   "execution_count": 149,
   "metadata": {},
   "outputs": [
    {
     "data": {
      "text/plain": [
       "array([0. , 0.5, 1. , 1.5, 2. , 2.5, 3. , 3.5, 4. ])"
      ]
     },
     "execution_count": 149,
     "metadata": {},
     "output_type": "execute_result"
    }
   ],
   "source": [
    "x"
   ]
  },
  {
   "cell_type": "code",
   "execution_count": 150,
   "metadata": {},
   "outputs": [],
   "source": [
    "def f(x):\n",
    "    return (-0.5)*x**4 + 4*x**3 - 10*x**2 + 8.5*x + 1"
   ]
  },
  {
   "cell_type": "code",
   "execution_count": 151,
   "metadata": {},
   "outputs": [],
   "source": [
    "Y = f(x)"
   ]
  },
  {
   "cell_type": "code",
   "execution_count": 152,
   "metadata": {},
   "outputs": [
    {
     "data": {
      "text/plain": [
       "array([1.     , 3.21875, 3.     , 2.21875, 2.     , 2.71875, 4.     ,\n",
       "       4.71875, 3.     ])"
      ]
     },
     "execution_count": 152,
     "metadata": {},
     "output_type": "execute_result"
    }
   ],
   "source": [
    "Y"
   ]
  },
  {
   "cell_type": "code",
   "execution_count": 153,
   "metadata": {},
   "outputs": [],
   "source": [
    "Err = abs(Y - y)"
   ]
  },
  {
   "cell_type": "code",
   "execution_count": 154,
   "metadata": {},
   "outputs": [
    {
     "data": {
      "text/plain": [
       "array([0.     , 2.03125, 2.875  , 2.90625, 2.5    , 2.03125, 1.875  ,\n",
       "       2.40625, 4.     ])"
      ]
     },
     "execution_count": 154,
     "metadata": {},
     "output_type": "execute_result"
    }
   ],
   "source": [
    "Err"
   ]
  },
  {
   "cell_type": "markdown",
   "metadata": {},
   "source": [
    "<font color=fuchsia> <B>Grafik Perbandingan</font> <br>"
   ]
  },
  {
   "cell_type": "code",
   "execution_count": 166,
   "metadata": {},
   "outputs": [
    {
     "data": {
      "image/png": "[encoded data removed]",
      "text/plain": [
       "<Figure size 432x288 with 1 Axes>"
      ]
     },
     "metadata": {
      "needs_background": "light"
     },
     "output_type": "display_data"
    }
   ],
   "source": [
    "plot(x,Y,'*-',label='y_eksak')\n",
    "plot(x,y,'o-',label='y_euler')\n",
    "show()"
   ]
  },
  {
   "cell_type": "markdown",
   "metadata": {},
   "source": [
    "<font color=fuchsia> <B>Tabel Perbandingan</font> <br>"
   ]
  },
  {
   "cell_type": "code",
   "execution_count": 161,
   "metadata": {},
   "outputs": [
    {
     "data": {
      "text/html": [
       "<div>\n",
       "<style scoped>\n",
       "    .dataframe tbody tr th:only-of-type {\n",
       "        vertical-align: middle;\n",
       "    }\n",
       "\n",
       "    .dataframe tbody tr th {\n",
       "        vertical-align: top;\n",
       "    }\n",
       "\n",
       "    .dataframe thead th {\n",
       "        text-align: right;\n",
       "    }\n",
       "</style>\n",
       "<table border=\"1\" class=\"dataframe\">\n",
       "  <thead>\n",
       "    <tr style=\"text-align: right;\">\n",
       "      <th></th>\n",
       "      <th>x</th>\n",
       "      <th>y eksak</th>\n",
       "      <th>y euler</th>\n",
       "      <th>error</th>\n",
       "    </tr>\n",
       "  </thead>\n",
       "  <tbody>\n",
       "    <tr>\n",
       "      <th>0</th>\n",
       "      <td>0.0</td>\n",
       "      <td>1.00000</td>\n",
       "      <td>1.000</td>\n",
       "      <td>0.00000</td>\n",
       "    </tr>\n",
       "    <tr>\n",
       "      <th>1</th>\n",
       "      <td>0.5</td>\n",
       "      <td>3.21875</td>\n",
       "      <td>5.250</td>\n",
       "      <td>2.03125</td>\n",
       "    </tr>\n",
       "    <tr>\n",
       "      <th>2</th>\n",
       "      <td>1.0</td>\n",
       "      <td>3.00000</td>\n",
       "      <td>5.875</td>\n",
       "      <td>2.87500</td>\n",
       "    </tr>\n",
       "    <tr>\n",
       "      <th>3</th>\n",
       "      <td>1.5</td>\n",
       "      <td>2.21875</td>\n",
       "      <td>5.125</td>\n",
       "      <td>2.90625</td>\n",
       "    </tr>\n",
       "    <tr>\n",
       "      <th>4</th>\n",
       "      <td>2.0</td>\n",
       "      <td>2.00000</td>\n",
       "      <td>4.500</td>\n",
       "      <td>2.50000</td>\n",
       "    </tr>\n",
       "    <tr>\n",
       "      <th>5</th>\n",
       "      <td>2.5</td>\n",
       "      <td>2.71875</td>\n",
       "      <td>4.750</td>\n",
       "      <td>2.03125</td>\n",
       "    </tr>\n",
       "    <tr>\n",
       "      <th>6</th>\n",
       "      <td>3.0</td>\n",
       "      <td>4.00000</td>\n",
       "      <td>5.875</td>\n",
       "      <td>1.87500</td>\n",
       "    </tr>\n",
       "    <tr>\n",
       "      <th>7</th>\n",
       "      <td>3.5</td>\n",
       "      <td>4.71875</td>\n",
       "      <td>7.125</td>\n",
       "      <td>2.40625</td>\n",
       "    </tr>\n",
       "    <tr>\n",
       "      <th>8</th>\n",
       "      <td>4.0</td>\n",
       "      <td>3.00000</td>\n",
       "      <td>7.000</td>\n",
       "      <td>4.00000</td>\n",
       "    </tr>\n",
       "  </tbody>\n",
       "</table>\n",
       "</div>"
      ],
      "text/plain": [
       "     x  y eksak  y euler    error\n",
       "0  0.0  1.00000    1.000  0.00000\n",
       "1  0.5  3.21875    5.250  2.03125\n",
       "2  1.0  3.00000    5.875  2.87500\n",
       "3  1.5  2.21875    5.125  2.90625\n",
       "4  2.0  2.00000    4.500  2.50000\n",
       "5  2.5  2.71875    4.750  2.03125\n",
       "6  3.0  4.00000    5.875  1.87500\n",
       "7  3.5  4.71875    7.125  2.40625\n",
       "8  4.0  3.00000    7.000  4.00000"
      ]
     },
     "execution_count": 161,
     "metadata": {},
     "output_type": "execute_result"
    }
   ],
   "source": [
    "n_rows = 10\n",
    "n_cols = 5\n",
    "\n",
    "df = pd.DataFrame(data = {'x':x,\n",
    "                          'y eksak': Y,\n",
    "                          'y euler': y,\n",
    "                          'error': Err})\n",
    "df"
   ]
  },
  {
   "cell_type": "markdown",
   "metadata": {},
   "source": [
    "Terlihat pada tabel : <br>\n",
    "- saat x=0 maka error nya 0\n",
    "- semakin besar nilai x maka error semakin besar pula\n",
    "- tetapi, error bisa diperkecil jika kita memperkecil dx nya. sehingga akan terlihat pada grafik perbandingan bahwa y euler & y eksak semakin ber-himpit\n"
   ]
  }
 ],
 "metadata": {
  "kernelspec": {
   "display_name": "Python 3",
   "language": "python",
   "name": "python3"
  },
  "language_info": {
   "codemirror_mode": {
    "name": "ipython",
    "version": 3
   },
   "file_extension": ".py",
   "mimetype": "text/x-python",
   "name": "python",
   "nbconvert_exporter": "python",
   "pygments_lexer": "ipython3",
   "version": "3.7.3"
  }
 },
 "nbformat": 4,
 "nbformat_minor": 2
}
